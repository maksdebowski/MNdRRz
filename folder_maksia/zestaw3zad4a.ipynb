{
 "cells": [
  {
   "cell_type": "code",
   "execution_count": 1,
   "id": "83d477ed",
   "metadata": {},
   "outputs": [],
   "source": [
    "import numpy as np\n",
    "import matplotlib.pyplot as plt"
   ]
  },
  {
   "cell_type": "code",
   "execution_count": 2,
   "id": "e03003f8",
   "metadata": {},
   "outputs": [],
   "source": [
    "def exact_solution(t):\n",
    "    return 0.5 * t**2\n",
    "\n",
    "def f(t, x):\n",
    "    return t"
   ]
  },
  {
   "cell_type": "code",
   "execution_count": 3,
   "id": "423a613f",
   "metadata": {},
   "outputs": [],
   "source": [
    "def rk4(f, t0, x0, h, t_end):\n",
    "    t = t0\n",
    "    x = x0\n",
    "    while t < t_end:\n",
    "        if t + h > t_end:\n",
    "            h = t_end - t\n",
    "        k1 = f(t, x)\n",
    "        k2 = f(t + 0.5 * h, x + 0.5 * h * k1)\n",
    "        k3 = f(t + 0.5 * h, x + 0.5 * h * k2)\n",
    "        k4 = f(t + h, x + h * k3)\n",
    "        x += (h / 6) * (k1 + 2 * k2 + 2 * k3 + k4)\n",
    "        t += h\n",
    "    return x"
   ]
  },
  {
   "cell_type": "code",
   "execution_count": null,
   "id": "0a46bb6f",
   "metadata": {},
   "outputs": [
    {
     "name": "stdout",
     "output_type": "stream",
     "text": [
      "h: [0.1, 0.05, 0.025, 0.0125]\n",
      "Błędy: [1.1102230246251565e-16, 2.220446049250313e-16, 4.996003610813204e-16, 1.2212453270876722e-15]\n",
      "Oszacowania rzędu metody: [np.float64(-1.0), np.float64(-1.1699250014423124), np.float64(-1.2895066171949847)]\n"
     ]
    }
   ],
   "source": [
    "t0 = 0\n",
    "x0 = 0\n",
    "t_end = 1\n",
    "\n",
    "hs = [0.1, 0.05, 0.025, 0.0125]\n",
    "errors = []\n",
    "\n",
    "for h in hs:\n",
    "    x_num = rk4(f, t0, x0, h, t_end)\n",
    "    x_exact = exact_solution(t_end)\n",
    "    error = abs(x_exact - x_num)\n",
    "    errors.append(error)\n",
    "\n",
    "orders = []\n",
    "for i in range(1, len(errors)):\n",
    "    p = np.log(errors[i-1]/errors[i]) / np.log(hs[i-1]/hs[i])\n",
    "    orders.append(p)\n",
    "\n",
    "print(\"h:\", hs)\n",
    "print(\"Błędy:\", errors)\n",
    "print(\"Oszacowania rzędu metody:\", orders)\n"
   ]
  },
  {
   "cell_type": "markdown",
   "id": "96716e63",
   "metadata": {},
   "source": [
    "### Zaskakująco oszacowany rząd wychodzi ujemny, co jest nielogiczne, wynika to z faktu że f(x,t) = t i dokładne rozwiązanie są tak gładkie że RK4 osiąga dokładność maszynową."
   ]
  },
  {
   "cell_type": "code",
   "execution_count": 5,
   "id": "8ee65034",
   "metadata": {},
   "outputs": [],
   "source": [
    "def exact_solution(t):\n",
    "    return np.cos(t)\n",
    "\n",
    "def f(t, x):\n",
    "    return np.sin(t)"
   ]
  },
  {
   "cell_type": "code",
   "execution_count": 6,
   "id": "2d8ac24f",
   "metadata": {},
   "outputs": [
    {
     "name": "stdout",
     "output_type": "stream",
     "text": [
      "h: [0.1, 0.05, 0.025, 0.0125]\n",
      "Błędy: [np.float64(0.08060459576980211), np.float64(0.08060461073859765), np.float64(0.08060461167392813), np.float64(0.08060461173238143)]\n",
      "Oszacowania rzędu metody: [np.float64(-2.679177890956578e-07), np.float64(-1.674093610326313e-08), np.float64(-1.0462216378508588e-09)]\n"
     ]
    }
   ],
   "source": [
    "t0 = 0\n",
    "x0 = 0\n",
    "t_end = 1\n",
    "\n",
    "hs = [0.1, 0.05, 0.025, 0.0125]\n",
    "errors = []\n",
    "\n",
    "for h in hs:\n",
    "    x_num = rk4(f, t0, x0, h, t_end)\n",
    "    x_exact = exact_solution(t_end)\n",
    "    error = abs(x_exact - x_num)\n",
    "    errors.append(error)\n",
    "\n",
    "orders = []\n",
    "for i in range(1, len(errors)):\n",
    "    p = np.log(errors[i-1]/errors[i]) / np.log(hs[i-1]/hs[i])\n",
    "    orders.append(p)\n",
    "\n",
    "print(\"h:\", hs)\n",
    "print(\"Błędy:\", errors)\n",
    "print(\"Oszacowania rzędu metody:\", orders)"
   ]
  },
  {
   "cell_type": "markdown",
   "id": "f9d45d68",
   "metadata": {},
   "source": [
    "### TO SAMO!"
   ]
  },
  {
   "cell_type": "code",
   "execution_count": 7,
   "id": "7f6e8aac",
   "metadata": {},
   "outputs": [
    {
     "name": "stdout",
     "output_type": "stream",
     "text": [
      "h: [0.1, 0.05, 0.025, 0.0125]\n",
      "Błędy: [np.float64(6.740843115360384e-07), np.float64(4.2038986292070035e-08), np.float64(2.6260142949041665e-09), np.float64(1.6410517389431334e-10)]\n",
      "Oszacowania rzędu metody: [np.float64(4.003129262341704), np.float64(4.000781206481439), np.float64(4.000182139819042)]\n"
     ]
    }
   ],
   "source": [
    "def exact_solution(t):\n",
    "    return np.exp(-t**2)\n",
    "\n",
    "def f(t, x):\n",
    "    return -2 * t * np.exp(-t**2)\n",
    "\n",
    "t0 = 0\n",
    "x0 = exact_solution(t0)\n",
    "t_end = 1\n",
    "\n",
    "hs = [0.1, 0.05, 0.025, 0.0125]\n",
    "errors = []\n",
    "\n",
    "for h in hs:\n",
    "    x_num = rk4(f, t0, x0, h, t_end)\n",
    "    x_exact = exact_solution(t_end)\n",
    "    error = abs(x_exact - x_num)\n",
    "    errors.append(error)\n",
    "\n",
    "orders = []\n",
    "for i in range(1, len(errors)):\n",
    "    p = np.log(errors[i-1]/errors[i]) / np.log(hs[i-1]/hs[i])\n",
    "    orders.append(p)\n",
    "\n",
    "print(\"h:\", hs)\n",
    "print(\"Błędy:\", errors)\n",
    "print(\"Oszacowania rzędu metody:\", orders)"
   ]
  },
  {
   "cell_type": "markdown",
   "id": "651dd25a",
   "metadata": {},
   "source": [
    "### Tutaj dla bardziej skomplikowanej funkcji rząd zaczyna wyglądać ładnie"
   ]
  },
  {
   "cell_type": "code",
   "execution_count": 8,
   "id": "90c847d7",
   "metadata": {},
   "outputs": [
    {
     "name": "stdout",
     "output_type": "stream",
     "text": [
      "h: [0.1, 0.05, 0.025, 0.0125]\n",
      "Błędy: [np.float64(1.6912818434633436e-07), np.float64(1.0497289926192366e-08), np.float64(6.54943654865292e-10), np.float64(4.091393890348627e-11)]\n",
      "Oszacowania rzędu metody: [np.float64(4.0100282754465555), np.float64(4.002502310540004), np.float64(4.000706454744772)]\n"
     ]
    }
   ],
   "source": [
    "def exact_solution(t):\n",
    "    return np.exp(-t**2) * np.sin(t) + t**3\n",
    "\n",
    "def f(t, x):\n",
    "    return -2 * t * np.exp(-t**2) * np.sin(t) + np.exp(-t**2) * np.cos(t) + 3 * t**2\n",
    "\n",
    "t0 = 0\n",
    "x0 = exact_solution(t0)\n",
    "t_end = 1\n",
    "\n",
    "hs = [0.1, 0.05, 0.025, 0.0125]\n",
    "errors = []\n",
    "\n",
    "for h in hs:\n",
    "    x_num = rk4(f, t0, x0, h, t_end)\n",
    "    x_exact = exact_solution(t_end)\n",
    "    error = abs(x_exact - x_num)\n",
    "    errors.append(error)\n",
    "\n",
    "orders = []\n",
    "for i in range(1, len(errors)):\n",
    "    p = np.log(errors[i-1]/errors[i]) / np.log(hs[i-1]/hs[i])\n",
    "    orders.append(p)\n",
    "\n",
    "print(\"h:\", hs)\n",
    "print(\"Błędy:\", errors)\n",
    "print(\"Oszacowania rzędu metody:\", orders)"
   ]
  },
  {
   "cell_type": "markdown",
   "id": "842ebb00",
   "metadata": {},
   "source": [
    "GITARRRRRRA"
   ]
  }
 ],
 "metadata": {
  "kernelspec": {
   "display_name": ".venv",
   "language": "python",
   "name": "python3"
  },
  "language_info": {
   "codemirror_mode": {
    "name": "ipython",
    "version": 3
   },
   "file_extension": ".py",
   "mimetype": "text/x-python",
   "name": "python",
   "nbconvert_exporter": "python",
   "pygments_lexer": "ipython3",
   "version": "3.12.2"
  }
 },
 "nbformat": 4,
 "nbformat_minor": 5
}
